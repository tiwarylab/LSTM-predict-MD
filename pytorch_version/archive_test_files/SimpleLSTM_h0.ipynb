{
 "cells": [
  {
   "cell_type": "code",
   "execution_count": 1,
   "metadata": {},
   "outputs": [],
   "source": [
    "import numpy as np\n",
    "import pandas as pd\n",
    "import sklearn\n",
    "import torch\n",
    "import torch.nn as nn\n",
    "import matplotlib.pyplot as plt\n",
    "from torch.autograd import Variable\n",
    "from torch.utils.data import Dataset, DataLoader"
   ]
  },
  {
   "cell_type": "code",
   "execution_count": 141,
   "metadata": {},
   "outputs": [],
   "source": [
    "infile = '../ChronoLSTM_1d_bin3/DATA_Linear/xvyw1beta9.5gammax1.0gammay1.0epsln1.0sgma1.0A1.0x01.122w0.8B0.15a1.0_h0.01_mix1.txt'\n",
    "input_x, _=np.loadtxt(infile, unpack=True, max_rows=100000)"
   ]
  },
  {
   "cell_type": "code",
   "execution_count": 142,
   "metadata": {},
   "outputs": [],
   "source": [
    "device = torch.device(\"cpu\")"
   ]
  },
  {
   "cell_type": "code",
   "execution_count": 143,
   "metadata": {},
   "outputs": [],
   "source": [
    "num_bins=3\n",
    "sm_length=20\n",
    "def running_mean(x, N):\n",
    "    \"\"\"Use convolution to do running average.\"\"\"\n",
    "    return np.convolve(x, np.ones((N,))/N, mode='valid')\n",
    "\n",
    "def find_nearest(key_arr, target):\n",
    "    \"\"\"key_arr: array-like, storing keys.\n",
    "       target: the value which we want to be closest to.\"\"\"\n",
    "    idx=np.abs(key_arr-target).argmin()\n",
    "    return idx\n",
    "\n",
    "def Rm_peaks_steps(traj):\n",
    "    global threshold\n",
    "    \"\"\"\n",
    "    Remove sudden changes in the trajectory such as peaks and small steps.\n",
    "    In this method, I used gradient to identify the changes. If two nonzero\n",
    "    gradients are too close (< threshold), we shall take this range as noise.\n",
    "    \"\"\"\n",
    "    traj=np.array(traj)\n",
    "    grad_traj=np.gradient(traj) # gradient of trajectory\n",
    "    idx_grad=np.where(grad_traj!=0)[0]\n",
    "    threshold=20\n",
    "    idx0=idx_grad[0]\n",
    "    for idx in idx_grad:\n",
    "        window=idx-idx0\n",
    "        if window <= 1: # neighbor\n",
    "            continue\n",
    "        elif window > 1 and window <= threshold:\n",
    "            traj[idx0:idx0+window//2+1]=traj[idx0]\n",
    "            traj[idx0+window//2+1:idx+1]=traj[idx+1]\n",
    "            idx0=idx\n",
    "        elif window > threshold:\n",
    "            idx0=idx\n",
    "    return traj\n",
    "\n",
    "\n",
    "\n",
    "\n",
    "X = [1.5, 0, -1.5]\n",
    "input_x = running_mean(input_x, sm_length) # smooothen data.\n",
    "idx_x = map(lambda x: find_nearest(X, x), input_x) # convert to three bins.\n",
    "\n",
    "idx_2d=list(idx_x) # list(zip(idx_x, idx_y))\n",
    "idx_2d = Rm_peaks_steps(idx_2d) # remove peaks and short steps\n",
    "\n",
    "text = idx_2d\n",
    "\n",
    "\n",
    "all_combs = [i for i in range(num_bins)]\n",
    "vocab=sorted(all_combs)"
   ]
  },
  {
   "cell_type": "code",
   "execution_count": 144,
   "metadata": {},
   "outputs": [],
   "source": [
    "# Creating a mapping from unique characters to indices\n",
    "char2idx = {u:i for i, u in enumerate(vocab)}\n",
    "idx2char = np.array(vocab)\n",
    "\n",
    "text_as_int = np.array([char2idx[c] for c in text])\n"
   ]
  },
  {
   "cell_type": "code",
   "execution_count": 272,
   "metadata": {},
   "outputs": [],
   "source": [
    "class NLP(nn.Module):\n",
    "    \n",
    "    def __init__(self, input_dim, embedding_dim, rnn_units, batch_size):\n",
    "        \n",
    "        super(NLP, self).__init__()\n",
    "        \n",
    "        self.input_dim = input_dim\n",
    "        self.embedding_dim = embedding_dim\n",
    "        self.hidden_dim = rnn_units\n",
    "        self.num_layers = 1\n",
    "        self.batch_size = batch_size\n",
    "        \n",
    "        self.embedding = nn.Embedding(self.input_dim, self.embedding_dim)\n",
    "        self.lstm = nn.LSTM(self.embedding_dim, self.hidden_dim, batch_first=True)\n",
    "        self.linear = nn.Linear(self.hidden_dim, self.input_dim)\n",
    "        self.hidden = self.init_hidden()\n",
    "    \n",
    "    def init_hidden(self):\n",
    "        \n",
    "        return (nn.Parameter(torch.zeros(self.num_layers, self.batch_size, self.hidden_dim)),\n",
    "                nn.Parameter(torch.zeros(self.num_layers, self.batch_size, self.hidden_dim)))\n",
    "    \n",
    "    def forward(self, input):\n",
    "        \n",
    "        embedding_out = self.embedding(input)\n",
    "        lstm_in = embedding_out.view(self.batch_size, input.shape[1], self.embedding_dim)\n",
    "        lstm_out, self.hidden = self.lstm(lstm_in, self.hidden)\n",
    "        y_pred = self.linear(lstm_out)\n",
    "        \n",
    "        return y_pred\n"
   ]
  },
  {
   "cell_type": "code",
   "execution_count": 146,
   "metadata": {},
   "outputs": [
    {
     "data": {
      "text/plain": [
       "torch.Size([64, 100, 8])"
      ]
     },
     "execution_count": 146,
     "metadata": {},
     "output_type": "execute_result"
    }
   ],
   "source": [
    "embedding = nn.Embedding(vocab_size, embedding_dim)\n",
    "embedding_out = embedding(batch_X_train)\n",
    "embedding_out.shape"
   ]
  },
  {
   "cell_type": "code",
   "execution_count": 147,
   "metadata": {},
   "outputs": [
    {
     "data": {
      "text/plain": [
       "torch.Size([1, 64, 32])"
      ]
     },
     "execution_count": 147,
     "metadata": {},
     "output_type": "execute_result"
    }
   ],
   "source": [
    "lstm = nn.LSTM(embedding_dim, rnn_units, batch_first=True)\n",
    "lstm_in = embedding_out.view(batch_X_train.shape[0], batch_X_train.shape[1], embedding_dim)\n",
    "lstm_out = lstm(lstm_in)\n",
    "lstm_out[1][0].shape"
   ]
  },
  {
   "cell_type": "code",
   "execution_count": 212,
   "metadata": {},
   "outputs": [],
   "source": [
    "w_ii, w_if, w_ic, w_io = list(model.modules())[2].weight_ih_l0.chunk(4, 0)\n",
    "w_hi, w_hf, w_hc, w_ho = list(model.modules())[2].weight_hh_l0.chunk(4, 0)\n",
    "b_hi, b_hf, b_hc, b_ho = list(model.modules())[2].bias_ih_l0.chunk(4,0)"
   ]
  },
  {
   "cell_type": "code",
   "execution_count": 245,
   "metadata": {},
   "outputs": [
    {
     "data": {
      "text/plain": [
       "tensor([-0.7265,  0.8784, -0.8861, -0.3178,  0.3114, -0.7332,  0.5845, -0.8612,\n",
       "         0.9074,  0.7950], grad_fn=<SliceBackward>)"
      ]
     },
     "execution_count": 245,
     "metadata": {},
     "output_type": "execute_result"
    }
   ],
   "source": [
    "model.hidden[0][0][0][:10]"
   ]
  },
  {
   "cell_type": "code",
   "execution_count": 319,
   "metadata": {},
   "outputs": [
    {
     "name": "stdout",
     "output_type": "stream",
     "text": [
      "NLP(\n",
      "  (embedding): Embedding(3, 8)\n",
      "  (lstm): LSTM(8, 32, batch_first=True)\n",
      "  (linear): Linear(in_features=32, out_features=3, bias=True)\n",
      ")\n",
      "0 0.9492987990379333\n",
      "1 0.7255184054374695\n",
      "2 0.5000995397567749\n",
      "3 0.3550272285938263\n",
      "4 0.2738064229488373\n",
      "5 0.24045103788375854\n",
      "6 0.1974778026342392\n",
      "7 0.1716352254152298\n",
      "8 0.16548053920269012\n",
      "9 0.1540663093328476\n",
      "10 0.14167208969593048\n",
      "11 0.13443300127983093\n",
      "12 0.11704611778259277\n",
      "13 0.11656559258699417\n",
      "14 0.10367486625909805\n",
      "15 0.11425583809614182\n",
      "16 0.10769663006067276\n",
      "17 0.10389742255210876\n",
      "18 0.09683568775653839\n",
      "19 0.09245043992996216\n"
     ]
    }
   ],
   "source": [
    "class seq_data(Dataset):\n",
    "    \n",
    "    def __init__(self, traj, seq_length, shift):\n",
    "        self.traj = traj\n",
    "        self.seq_length = seq_length\n",
    "        self.shift = shift\n",
    "    \n",
    "    def __len__(self):\n",
    "        return self.traj[self.shift:].shape[0]//self.seq_length\n",
    "    \n",
    "    def __getitem__(self, idx):\n",
    "        x = self.traj[:-self.shift][idx*self.seq_length:idx*self.seq_length+self.seq_length]\n",
    "        y = self.traj[self.shift:][idx*self.seq_length:idx*self.seq_length+self.seq_length]\n",
    "        return x, y\n",
    "\n",
    "\n",
    "EPOCHS = 20\n",
    "sequence_len = 100\n",
    "shift=1\n",
    "batch_size=64\n",
    "\n",
    "dataset = seq_data(text_as_int, 100, 1)\n",
    "dataset = DataLoader(dataset, batch_size=64, shuffle=True, drop_last=True)\n",
    "\n",
    "# Length of the vocabulary in chars\n",
    "vocab_size = len(vocab)\n",
    "# The embedding dimension\n",
    "embedding_dim = 8\n",
    "# Number of RNN units\n",
    "rnn_units = 32\n",
    "# Batch size\n",
    "batch_size=64\n",
    "\n",
    "model = NLP(vocab_size, embedding_dim, rnn_units, batch_size).to(device)\n",
    "print(model)\n",
    "\n",
    "loss_fn = nn.CrossEntropyLoss()\n",
    "optimizer = torch.optim.Adam(model.parameters(), lr=0.001)\n",
    "\n",
    "LOSS=[]\n",
    "for epoch in range(EPOCHS):\n",
    "    \n",
    "    for batch_X_train, batch_Y_train in dataset:\n",
    "        model.hidden[0].detach_()\n",
    "        model.hidden[1].detach_()\n",
    "#         print('Before training:', model.hidden[0][0][0][:3])\n",
    "        \n",
    "        batch_X_train = batch_X_train.to(device)\n",
    "        batch_Y_train = batch_Y_train.to(device)\n",
    "        y_pred = model(batch_X_train)\n",
    "        y=batch_Y_train.to(device)\n",
    "        \n",
    "        loss = loss_fn(y_pred.view(-1, vocab_size), y.view(-1))\n",
    "\n",
    "        optimizer.zero_grad()\n",
    "        loss.backward(retain_graph=True)\n",
    "        optimizer.step()\n",
    "        LOSS.append(loss.item())\n",
    "#         print('After optimizer: ', model.hidden[0][0][0][:3])\n",
    "        \n",
    "    print(epoch, loss.item())\n",
    "    "
   ]
  },
  {
   "cell_type": "code",
   "execution_count": 313,
   "metadata": {},
   "outputs": [
    {
     "data": {
      "text/plain": [
       "[<matplotlib.lines.Line2D at 0xa2900bc18>]"
      ]
     },
     "execution_count": 313,
     "metadata": {},
     "output_type": "execute_result"
    },
    {
     "data": {
      "image/png": "[encoded data removed]",
      "text/plain": [
       "<Figure size 432x288 with 1 Axes>"
      ]
     },
     "metadata": {
      "needs_background": "light"
     },
     "output_type": "display_data"
    }
   ],
   "source": [
    "LOSS64=LOSS\n",
    "plt.plot(LOSS64)"
   ]
  },
  {
   "cell_type": "markdown",
   "metadata": {},
   "source": [
    "# Save weights"
   ]
  },
  {
   "cell_type": "code",
   "execution_count": null,
   "metadata": {},
   "outputs": [],
   "source": [
    "PATH = 'test_weight'\n",
    "torch.save(model.state_dict(), PATH)"
   ]
  },
  {
   "cell_type": "markdown",
   "metadata": {},
   "source": [
    "# Reset model to batch_size=1 for prediction"
   ]
  },
  {
   "cell_type": "code",
   "execution_count": null,
   "metadata": {},
   "outputs": [],
   "source": [
    "model = NLP(vocab_size, embedding_dim, rnn_units, 1).to(device)\n",
    "model.load_state_dict(torch.load(PATH))\n"
   ]
  },
  {
   "cell_type": "markdown",
   "metadata": {},
   "source": [
    "# Prediction"
   ]
  },
  {
   "cell_type": "code",
   "execution_count": 266,
   "metadata": {},
   "outputs": [],
   "source": [
    "def generate_text(start_string):\n",
    "    \n",
    "    input_eval = torch.tensor([char2idx[s] for s in start_string], device=device)\n",
    "    \n",
    "    text_generated = np.empty(1)\n",
    "    \n",
    "    for i in range(1000):\n",
    "        input_eval = input_eval[np.newaxis, ...] # add a dimension for batch=1.\n",
    "        prediction=model(input_eval)\n",
    "        logits=prediction\n",
    "        p=torch.nn.functional.softmax(logits, dim=-1) # take first batch\n",
    "        predicted_id=torch.multinomial(p[0,-1], 1)\n",
    "        \n",
    "        input_eval = predicted_id\n",
    "        \n",
    "        text_generated = np.vstack((text_generated, idx2char[predicted_id].tolist()))\n",
    "\n",
    "    return text_generated"
   ]
  },
  {
   "cell_type": "code",
   "execution_count": 267,
   "metadata": {},
   "outputs": [],
   "source": [
    "text = idx_2d[:1000]\n",
    "prediction=generate_text(text)"
   ]
  },
  {
   "cell_type": "code",
   "execution_count": 3,
   "metadata": {},
   "outputs": [],
   "source": [
    "infile = 'prediction2'\n",
    "prediction=np.loadtxt(infile)"
   ]
  },
  {
   "cell_type": "code",
   "execution_count": 268,
   "metadata": {},
   "outputs": [
    {
     "data": {
      "image/png": "[encoded data removed]",
      "text/plain": [
       "<Figure size 432x288 with 1 Axes>"
      ]
     },
     "metadata": {
      "needs_background": "light"
     },
     "output_type": "display_data"
    }
   ],
   "source": [
    "import matplotlib.pyplot as plt\n",
    "plt.plot(prediction[1:2000])\n",
    "plt.show()"
   ]
  },
  {
   "cell_type": "code",
   "execution_count": 16,
   "metadata": {},
   "outputs": [
    {
     "data": {
      "text/plain": [
       "[<matplotlib.lines.Line2D at 0xa1d63f048>]"
      ]
     },
     "execution_count": 16,
     "metadata": {},
     "output_type": "execute_result"
    },
    {
     "data": {
      "image/png": "[encoded data removed]",
      "text/plain": [
       "<Figure size 432x288 with 1 Axes>"
      ]
     },
     "metadata": {
      "needs_background": "light"
     },
     "output_type": "display_data"
    }
   ],
   "source": [
    "plt.plot(text_as_int[1:2000])"
   ]
  },
  {
   "cell_type": "code",
   "execution_count": 7,
   "metadata": {},
   "outputs": [
    {
     "data": {
      "text/plain": [
       "(10990,)"
      ]
     },
     "execution_count": 7,
     "metadata": {},
     "output_type": "execute_result"
    }
   ],
   "source": [
    "np.where(prediction==0)[0].shape"
   ]
  },
  {
   "cell_type": "code",
   "execution_count": 8,
   "metadata": {},
   "outputs": [
    {
     "data": {
      "text/plain": [
       "(17243,)"
      ]
     },
     "execution_count": 8,
     "metadata": {},
     "output_type": "execute_result"
    }
   ],
   "source": [
    "np.where(prediction==1)[0].shape"
   ]
  },
  {
   "cell_type": "code",
   "execution_count": 9,
   "metadata": {},
   "outputs": [
    {
     "data": {
      "text/plain": [
       "(11767,)"
      ]
     },
     "execution_count": 9,
     "metadata": {},
     "output_type": "execute_result"
    }
   ],
   "source": [
    "np.where(prediction==2)[0].shape"
   ]
  }
 ],
 "metadata": {
  "kernelspec": {
   "display_name": "Python 3",
   "language": "python",
   "name": "python3"
  },
  "language_info": {
   "codemirror_mode": {
    "name": "ipython",
    "version": 3
   },
   "file_extension": ".py",
   "mimetype": "text/x-python",
   "name": "python",
   "nbconvert_exporter": "python",
   "pygments_lexer": "ipython3",
   "version": "3.7.3"
  }
 },
 "nbformat": 4,
 "nbformat_minor": 2
}
