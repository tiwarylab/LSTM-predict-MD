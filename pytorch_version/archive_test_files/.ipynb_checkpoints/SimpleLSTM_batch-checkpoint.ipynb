{
 "cells": [
  {
   "cell_type": "code",
   "execution_count": 1,
   "metadata": {},
   "outputs": [],
   "source": [
    "import numpy as np\n",
    "import pandas as pd\n",
    "import sklearn\n",
    "import torch\n",
    "import torch.nn as nn\n",
    "import matplotlib.pyplot as plt\n",
    "from torch.autograd import Variable"
   ]
  },
  {
   "cell_type": "code",
   "execution_count": 2,
   "metadata": {},
   "outputs": [],
   "source": [
    "infile = '../ChronoLSTM_1d_bin3/DATA_Linear/xvyw1beta9.5gammax1.0gammay1.0epsln1.0sgma1.0A1.0x01.122w0.8B0.15a1.0_h0.01_mix1.txt'\n",
    "input_x, _=np.loadtxt(infile, unpack=True, max_rows=100000)"
   ]
  },
  {
   "cell_type": "code",
   "execution_count": 3,
   "metadata": {},
   "outputs": [],
   "source": [
    "device = torch.device(\"cpu\")"
   ]
  },
  {
   "cell_type": "code",
   "execution_count": 4,
   "metadata": {},
   "outputs": [],
   "source": [
    "num_bins=3\n",
    "sm_length=20\n",
    "def running_mean(x, N):\n",
    "    \"\"\"Use convolution to do running average.\"\"\"\n",
    "    return np.convolve(x, np.ones((N,))/N, mode='valid')\n",
    "\n",
    "def find_nearest(key_arr, target):\n",
    "    \"\"\"key_arr: array-like, storing keys.\n",
    "       target: the value which we want to be closest to.\"\"\"\n",
    "    idx=np.abs(key_arr-target).argmin()\n",
    "    return idx\n",
    "\n",
    "def Rm_peaks_steps(traj):\n",
    "    global threshold\n",
    "    \"\"\"\n",
    "    Remove sudden changes in the trajectory such as peaks and small steps.\n",
    "    In this method, I used gradient to identify the changes. If two nonzero\n",
    "    gradients are too close (< threshold), we shall take this range as noise.\n",
    "    \"\"\"\n",
    "    traj=np.array(traj)\n",
    "    grad_traj=np.gradient(traj) # gradient of trajectory\n",
    "    idx_grad=np.where(grad_traj!=0)[0]\n",
    "    threshold=20\n",
    "    idx0=idx_grad[0]\n",
    "    for idx in idx_grad:\n",
    "        window=idx-idx0\n",
    "        if window <= 1: # neighbor\n",
    "            continue\n",
    "        elif window > 1 and window <= threshold:\n",
    "            traj[idx0:idx0+window//2+1]=traj[idx0]\n",
    "            traj[idx0+window//2+1:idx+1]=traj[idx+1]\n",
    "            idx0=idx\n",
    "        elif window > threshold:\n",
    "            idx0=idx\n",
    "    return traj\n",
    "\n",
    "\n",
    "\n",
    "\n",
    "X = [1.5, 0, -1.5]\n",
    "input_x = running_mean(input_x, sm_length) # smooothen data.\n",
    "idx_x = map(lambda x: find_nearest(X, x), input_x) # convert to three bins.\n",
    "\n",
    "idx_2d=list(idx_x) # list(zip(idx_x, idx_y))\n",
    "idx_2d = Rm_peaks_steps(idx_2d) # remove peaks and short steps\n",
    "\n",
    "text = idx_2d\n",
    "\n",
    "\n",
    "all_combs = [i for i in range(num_bins)]\n",
    "vocab=sorted(all_combs)"
   ]
  },
  {
   "cell_type": "code",
   "execution_count": 5,
   "metadata": {},
   "outputs": [],
   "source": [
    "# Creating a mapping from unique characters to indices\n",
    "char2idx = {u:i for i, u in enumerate(vocab)}\n",
    "idx2char = np.array(vocab)\n",
    "\n",
    "text_as_int = np.array([char2idx[c] for c in text])\n"
   ]
  },
  {
   "cell_type": "code",
   "execution_count": 6,
   "metadata": {},
   "outputs": [
    {
     "data": {
      "text/plain": [
       "array([0, 0, 0, ..., 2, 2, 2])"
      ]
     },
     "execution_count": 6,
     "metadata": {},
     "output_type": "execute_result"
    }
   ],
   "source": [
    "text_as_int"
   ]
  },
  {
   "cell_type": "code",
   "execution_count": 12,
   "metadata": {},
   "outputs": [],
   "source": [
    "class NLP(nn.Module):\n",
    "    \n",
    "    def __init__(self, input_dim, embedding_dim, rnn_units):\n",
    "        \n",
    "        super(NLP, self).__init__()\n",
    "        \n",
    "        self.input_dim = input_dim\n",
    "        self.embedding_dim = embedding_dim\n",
    "        self.hidden_dim = rnn_units\n",
    "        \n",
    "        \n",
    "        self.embedding = nn.Embedding(self.input_dim, self.embedding_dim)\n",
    "        self.lstm = nn.LSTM(self.embedding_dim, self.hidden_dim, batch_first=True)\n",
    "        self.linear = nn.Linear(self.hidden_dim, self.input_dim)\n",
    "        \n",
    "    def forward(self, input):\n",
    "        \n",
    "        self.batch_size=input.shape[0]\n",
    "        \n",
    "        embedding_out = self.embedding(input)\n",
    "        lstm_out, hidden = self.lstm(embedding_out.view(self.batch_size, input.shape[1], self.embedding_dim))\n",
    "        y_pred = self.linear(lstm_out)\n",
    "        \n",
    "        return y_pred\n"
   ]
  },
  {
   "cell_type": "code",
   "execution_count": null,
   "metadata": {},
   "outputs": [],
   "source": [
    "embedding = nn.Embedding(vocab_size, embedding_dim)\n",
    "embedding_out = embedding(batch_X_train)\n",
    "embedding_out.shape"
   ]
  },
  {
   "cell_type": "code",
   "execution_count": 147,
   "metadata": {},
   "outputs": [
    {
     "data": {
      "text/plain": [
       "torch.Size([64, 100, 32])"
      ]
     },
     "execution_count": 147,
     "metadata": {},
     "output_type": "execute_result"
    }
   ],
   "source": [
    "lstm = nn.LSTM(embedding_dim, rnn_units, batch_first=True)\n",
    "lstm_out = lstm(embedding_out.view(batch_size, 100, embedding_dim))\n",
    "lstm_out[0].shape"
   ]
  },
  {
   "cell_type": "code",
   "execution_count": 13,
   "metadata": {},
   "outputs": [
    {
     "name": "stdout",
     "output_type": "stream",
     "text": [
      "NLP(\n",
      "  (embedding): Embedding(3, 8)\n",
      "  (lstm): LSTM(8, 32, batch_first=True)\n",
      "  (linear): Linear(in_features=32, out_features=3, bias=True)\n",
      ")\n",
      "0 1.024482011795044\n",
      "1 0.8447785377502441\n",
      "2 0.5905354022979736\n",
      "3 0.39247801899909973\n",
      "4 0.2842410206794739\n",
      "5 0.22936969995498657\n",
      "6 0.18886472284793854\n",
      "7 0.15620164573192596\n",
      "8 0.1464516520500183\n",
      "9 0.1292848289012909\n",
      "10 0.12724429368972778\n",
      "11 0.12661154568195343\n",
      "12 0.11562281847000122\n",
      "13 0.1094169169664383\n",
      "14 0.10147712379693985\n",
      "15 0.09958842396736145\n",
      "16 0.09553944319486618\n",
      "17 0.09549863636493683\n",
      "18 0.07965468615293503\n",
      "19 0.09080754965543747\n"
     ]
    }
   ],
   "source": [
    "def batch_data(x, batch_size):\n",
    "    \"\"\"input should be a numpy.array or list\"\"\"\n",
    "    remaind = len(x)%batch_size\n",
    "    y = x[:-remaind]\n",
    "    num_dataset = len(x)//batch_size\n",
    "    return y.reshape((num_dataset, batch_size))\n",
    "\n",
    "\n",
    "EPOCHS = 20\n",
    "sequence_len = 100\n",
    "shift=1\n",
    "batch_size=64\n",
    "\n",
    "X_train = batch_data(text_as_int[:-shift], sequence_len)\n",
    "X_train = torch.tensor(X_train, device=\"cpu\")\n",
    "Y_train = batch_data(text_as_int[shift:], sequence_len)\n",
    "Y_train = torch.tensor(Y_train, device=\"cpu\")\n",
    "\n",
    "# Length of the vocabulary in chars\n",
    "vocab_size = len(vocab)\n",
    "# The embedding dimension\n",
    "embedding_dim = 8\n",
    "# Number of RNN units\n",
    "rnn_units = 32\n",
    "# Batch size\n",
    "batch_size=64\n",
    "\n",
    "model = NLP(vocab_size, embedding_dim, rnn_units).to(device)\n",
    "print(model)\n",
    "\n",
    "loss_fn = nn.CrossEntropyLoss()\n",
    "optimizer = torch.optim.Adam(model.parameters(), lr=0.001)\n",
    "\n",
    "\n",
    "for epoch in range(EPOCHS):\n",
    "    \n",
    "    permutation = torch.randperm(X_train.shape[0])\n",
    "\n",
    "    for i in range(0, X_train.shape[0]-batch_size, batch_size):\n",
    "#         print(i)\n",
    "        indices = permutation[i:i+batch_size]\n",
    "#         print(indices)\n",
    "        batch_X_train, batch_Y_train = X_train[indices], Y_train[indices]\n",
    "        batch_X_train = batch_X_train.to(device)\n",
    "        batch_Y_train = batch_Y_train.to(device)\n",
    "        y_pred = model(batch_X_train)\n",
    "        y=batch_Y_train.to(device)\n",
    "#         print(y_pred.shape)\n",
    "#         print(y.shape)\n",
    "        loss = loss_fn(y_pred.view(-1, vocab_size), y.view(-1))\n",
    "    \n",
    "        optimizer.zero_grad()\n",
    "        loss.backward()\n",
    "        optimizer.step()\n",
    "        \n",
    "    print(epoch, loss.item())\n",
    "    "
   ]
  },
  {
   "cell_type": "markdown",
   "metadata": {},
   "source": [
    "# Prediction"
   ]
  },
  {
   "cell_type": "code",
   "execution_count": 219,
   "metadata": {},
   "outputs": [],
   "source": [
    "def generate_text(start_string):\n",
    "    \n",
    "    input_eval = torch.tensor([char2idx[s] for s in start_string], device=device)\n",
    "    \n",
    "    text_generated = np.empty(1)\n",
    "    for i in range(1000):\n",
    "        input_eval = input_eval[np.newaxis, ...] # add a dimension for batch=1.\n",
    "        prediction=model(input_eval)\n",
    "        logits=prediction\n",
    "        p=torch.nn.functional.softmax(logits,dim=-1) \n",
    "        predicted_id=torch.multinomial(p[0,-1], 1) # take first batch\n",
    "        \n",
    "        input_eval = predicted_id\n",
    "        \n",
    "        text_generated = np.vstack((text_generated, idx2char[predicted_id].tolist()))\n",
    "\n",
    "    return text_generated"
   ]
  },
  {
   "cell_type": "code",
   "execution_count": 220,
   "metadata": {},
   "outputs": [],
   "source": [
    "text = idx_2d[:1000]\n",
    "prediction=generate_text(text)"
   ]
  },
  {
   "cell_type": "code",
   "execution_count": 3,
   "metadata": {},
   "outputs": [],
   "source": [
    "infile = 'prediction'\n",
    "prediction=np.loadtxt(infile)"
   ]
  },
  {
   "cell_type": "code",
   "execution_count": 17,
   "metadata": {},
   "outputs": [
    {
     "data": {
      "image/png": "[encoded data removed]",
      "text/plain": [
       "<Figure size 432x288 with 1 Axes>"
      ]
     },
     "metadata": {
      "needs_background": "light"
     },
     "output_type": "display_data"
    }
   ],
   "source": [
    "import matplotlib.pyplot as plt\n",
    "plt.plot(prediction[1:2000])\n",
    "plt.show()"
   ]
  },
  {
   "cell_type": "code",
   "execution_count": 16,
   "metadata": {},
   "outputs": [
    {
     "data": {
      "text/plain": [
       "[<matplotlib.lines.Line2D at 0xa1d63f048>]"
      ]
     },
     "execution_count": 16,
     "metadata": {},
     "output_type": "execute_result"
    },
    {
     "data": {
      "image/png": "[encoded data removed]",
      "text/plain": [
       "<Figure size 432x288 with 1 Axes>"
      ]
     },
     "metadata": {
      "needs_background": "light"
     },
     "output_type": "display_data"
    }
   ],
   "source": [
    "plt.plot(text_as_int[1:2000])"
   ]
  },
  {
   "cell_type": "code",
   "execution_count": 7,
   "metadata": {},
   "outputs": [
    {
     "data": {
      "text/plain": [
       "(10990,)"
      ]
     },
     "execution_count": 7,
     "metadata": {},
     "output_type": "execute_result"
    }
   ],
   "source": [
    "np.where(prediction==0)[0].shape"
   ]
  },
  {
   "cell_type": "code",
   "execution_count": 8,
   "metadata": {},
   "outputs": [
    {
     "data": {
      "text/plain": [
       "(17243,)"
      ]
     },
     "execution_count": 8,
     "metadata": {},
     "output_type": "execute_result"
    }
   ],
   "source": [
    "np.where(prediction==1)[0].shape"
   ]
  },
  {
   "cell_type": "code",
   "execution_count": 9,
   "metadata": {},
   "outputs": [
    {
     "data": {
      "text/plain": [
       "(11767,)"
      ]
     },
     "execution_count": 9,
     "metadata": {},
     "output_type": "execute_result"
    }
   ],
   "source": [
    "np.where(prediction==2)[0].shape"
   ]
  }
 ],
 "metadata": {
  "kernelspec": {
   "display_name": "Python 3",
   "language": "python",
   "name": "python3"
  },
  "language_info": {
   "codemirror_mode": {
    "name": "ipython",
    "version": 3
   },
   "file_extension": ".py",
   "mimetype": "text/x-python",
   "name": "python",
   "nbconvert_exporter": "python",
   "pygments_lexer": "ipython3",
   "version": "3.7.3"
  }
 },
 "nbformat": 4,
 "nbformat_minor": 2
}
