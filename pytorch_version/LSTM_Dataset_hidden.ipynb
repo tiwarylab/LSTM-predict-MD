{
 "cells": [
  {
   "cell_type": "code",
   "execution_count": 1,
   "metadata": {},
   "outputs": [],
   "source": [
    "import numpy as np\n",
    "import pandas as pd\n",
    "import sklearn\n",
    "import torch\n",
    "import torch.nn as nn\n",
    "import matplotlib.pyplot as plt\n",
    "from torch.autograd import Variable\n",
    "from torch.utils.data import Dataset, DataLoader"
   ]
  },
  {
   "cell_type": "code",
   "execution_count": 2,
   "metadata": {},
   "outputs": [],
   "source": [
    "infile = '../ChronoLSTM_1d_bin3/DATA_Linear/xvyw1beta9.5gammax1.0gammay1.0epsln1.0sgma1.0A1.0x01.122w0.8B0.15a1.0_h0.01_mix1.txt'\n",
    "input_x, _=np.loadtxt(infile, unpack=True, max_rows=500000)"
   ]
  },
  {
   "cell_type": "code",
   "execution_count": 3,
   "metadata": {},
   "outputs": [],
   "source": [
    "device = torch.device(\"cpu\")"
   ]
  },
  {
   "cell_type": "code",
   "execution_count": 4,
   "metadata": {},
   "outputs": [],
   "source": [
    "num_bins=3\n",
    "sm_length=20\n",
    "def running_mean(x, N):\n",
    "    \"\"\"Use convolution to do running average.\"\"\"\n",
    "    return np.convolve(x, np.ones((N,))/N, mode='valid')\n",
    "\n",
    "def find_nearest(key_arr, target):\n",
    "    \"\"\"key_arr: array-like, storing keys.\n",
    "       target: the value which we want to be closest to.\"\"\"\n",
    "    idx=np.abs(key_arr-target).argmin()\n",
    "    return idx\n",
    "\n",
    "def Rm_peaks_steps(traj):\n",
    "    global threshold\n",
    "    \"\"\"\n",
    "    Remove sudden changes in the trajectory such as peaks and small steps.\n",
    "    In this method, I used gradient to identify the changes. If two nonzero\n",
    "    gradients are too close (< threshold), we shall take this range as noise.\n",
    "    \"\"\"\n",
    "    traj=np.array(traj)\n",
    "    grad_traj=np.gradient(traj) # gradient of trajectory\n",
    "    idx_grad=np.where(grad_traj!=0)[0]\n",
    "    threshold=20\n",
    "    idx0=idx_grad[0]\n",
    "    for idx in idx_grad:\n",
    "        window=idx-idx0\n",
    "        if window <= 1: # neighbor\n",
    "            continue\n",
    "        elif window > 1 and window <= threshold:\n",
    "            traj[idx0:idx0+window//2+1]=traj[idx0]\n",
    "            traj[idx0+window//2+1:idx+1]=traj[idx+1]\n",
    "            idx0=idx\n",
    "        elif window > threshold:\n",
    "            idx0=idx\n",
    "    return traj\n",
    "\n",
    "\n",
    "X = [1.5, 0, -1.5]\n",
    "input_x = running_mean(input_x, sm_length) # smooothen data.\n",
    "idx_x = map(lambda x: find_nearest(X, x), input_x) # convert to three bins.\n",
    "\n",
    "idx_2d=list(idx_x) # list(zip(idx_x, idx_y))\n",
    "idx_2d = Rm_peaks_steps(idx_2d) # remove peaks and short steps\n",
    "\n",
    "text = idx_2d\n",
    "\n",
    "\n",
    "all_combs = [i for i in range(num_bins)]\n",
    "vocab=sorted(all_combs)"
   ]
  },
  {
   "cell_type": "code",
   "execution_count": 5,
   "metadata": {},
   "outputs": [],
   "source": [
    "# Creating a mapping from unique characters to indices\n",
    "char2idx = {u:i for i, u in enumerate(vocab)}\n",
    "idx2char = np.array(vocab)\n",
    "\n",
    "text_as_int = np.array([char2idx[c] for c in text])\n"
   ]
  },
  {
   "cell_type": "code",
   "execution_count": 6,
   "metadata": {},
   "outputs": [],
   "source": [
    "class seq_data(Dataset):\n",
    "    \n",
    "    def __init__(self, traj, seq_length, shift):\n",
    "        self.traj = traj\n",
    "        self.seq_length = seq_length\n",
    "        self.shift = shift\n",
    "    \n",
    "    def __len__(self):\n",
    "        return self.traj[self.shift:].shape[0]//self.seq_length\n",
    "    \n",
    "    def __getitem__(self, idx):\n",
    "        x = self.traj[:-self.shift][idx*self.seq_length:idx*self.seq_length+self.seq_length]\n",
    "        y = self.traj[self.shift:][idx*self.seq_length:idx*self.seq_length+self.seq_length]\n",
    "        return x, y\n"
   ]
  },
  {
   "cell_type": "code",
   "execution_count": 7,
   "metadata": {},
   "outputs": [],
   "source": [
    "class NLP(nn.Module):\n",
    "    \n",
    "    def __init__(self, input_dim, embedding_dim, rnn_units):\n",
    "        \n",
    "        super(NLP, self).__init__()\n",
    "        \n",
    "        self.input_dim = input_dim\n",
    "        self.embedding_dim = embedding_dim\n",
    "        self.hidden_dim = rnn_units\n",
    "        self.num_layers = 1\n",
    "        \n",
    "        self.embedding = nn.Embedding(self.input_dim, self.embedding_dim)\n",
    "        self.lstm = nn.LSTM(self.embedding_dim, self.hidden_dim, batch_first=True)\n",
    "        self.linear = nn.Linear(self.hidden_dim, self.input_dim)\n",
    "    \n",
    "    def init_hidden(self, batch_size):\n",
    "        \n",
    "        return (torch.zeros(self.num_layers, batch_size, self.hidden_dim),\n",
    "                torch.zeros(self.num_layers, batch_size, self.hidden_dim))\n",
    "    \n",
    "    def forward(self, input, hidden):\n",
    "        \n",
    "        batch_size = input.shape[0]\n",
    "        \n",
    "        embedding_out = self.embedding(input)\n",
    "        lstm_in = embedding_out.view(batch_size, input.shape[1], self.embedding_dim)\n",
    "        lstm_out, hidden = self.lstm(lstm_in, hidden)\n",
    "        y_pred = self.linear(lstm_out)\n",
    "        \n",
    "        return y_pred, hidden\n"
   ]
  },
  {
   "cell_type": "code",
   "execution_count": 8,
   "metadata": {},
   "outputs": [
    {
     "name": "stdout",
     "output_type": "stream",
     "text": [
      "NLP(\n",
      "  (embedding): Embedding(3, 8)\n",
      "  (lstm): LSTM(8, 32, batch_first=True)\n",
      "  (linear): Linear(in_features=32, out_features=3, bias=True)\n",
      ")\n",
      "0 0.28448763489723206\n",
      "1 0.14104153215885162\n",
      "2 0.10749267786741257\n",
      "3 0.08293169736862183\n",
      "4 0.0834016427397728\n",
      "5 0.08452264964580536\n",
      "6 0.07445412874221802\n",
      "7 0.0800478532910347\n",
      "8 0.06131793186068535\n",
      "9 0.07132688164710999\n",
      "10 0.07171986997127533\n",
      "11 0.06869091093540192\n",
      "12 0.0639532282948494\n",
      "13 0.07081916183233261\n",
      "14 0.06778712570667267\n",
      "15 0.07044072449207306\n",
      "16 0.07016903162002563\n",
      "17 0.05861711502075195\n",
      "18 0.0690615102648735\n",
      "19 0.06318093091249466\n"
     ]
    }
   ],
   "source": [
    "EPOCHS = 20\n",
    "sequence_len = 100\n",
    "shift=1\n",
    "batch_size=64\n",
    "\n",
    "dataset = seq_data(text_as_int, sequence_len, shift)\n",
    "dataset = DataLoader(dataset, batch_size=64, shuffle=True, drop_last=True)\n",
    "\n",
    "# Length of the vocabulary in chars\n",
    "vocab_size = len(vocab)\n",
    "# The embedding dimension\n",
    "embedding_dim = 8\n",
    "# Number of RNN units\n",
    "rnn_units = 32\n",
    "# Batch size\n",
    "batch_size=64\n",
    "\n",
    "model = NLP(vocab_size, embedding_dim, rnn_units).to(device)\n",
    "print(model)\n",
    "\n",
    "loss_fn = nn.CrossEntropyLoss()\n",
    "optimizer = torch.optim.Adam(model.parameters(), lr=0.001)\n",
    "\n",
    "hidden = model.init_hidden(batch_size)\n",
    "for epoch in range(EPOCHS):\n",
    "    \n",
    "    for batch_X_train, batch_Y_train in dataset:\n",
    "        \n",
    "        batch_X_train = batch_X_train.to(device)\n",
    "        batch_Y_train = batch_Y_train.to(device)\n",
    "        \n",
    "        y_pred, _ = model(batch_X_train, hidden)\n",
    "        y=batch_Y_train.to(device)\n",
    "        \n",
    "        loss = loss_fn(y_pred.view(-1, vocab_size), y.view(-1))\n",
    "\n",
    "        optimizer.zero_grad()\n",
    "        loss.backward()\n",
    "        optimizer.step()\n",
    "        \n",
    "    print(epoch, loss.item())\n",
    "    "
   ]
  },
  {
   "cell_type": "markdown",
   "metadata": {},
   "source": [
    "# Save weights"
   ]
  },
  {
   "cell_type": "code",
   "execution_count": 9,
   "metadata": {},
   "outputs": [],
   "source": [
    "PATH = 'test_weight'\n",
    "torch.save(model.state_dict(), PATH)"
   ]
  },
  {
   "cell_type": "markdown",
   "metadata": {},
   "source": [
    "# Reset model to batch_size=1 for prediction"
   ]
  },
  {
   "cell_type": "code",
   "execution_count": 10,
   "metadata": {},
   "outputs": [
    {
     "data": {
      "text/plain": [
       "<All keys matched successfully>"
      ]
     },
     "execution_count": 10,
     "metadata": {},
     "output_type": "execute_result"
    }
   ],
   "source": [
    "batch_size=1\n",
    "model = NLP(vocab_size, embedding_dim, rnn_units).to(device)\n",
    "model.load_state_dict(torch.load(PATH))"
   ]
  },
  {
   "cell_type": "markdown",
   "metadata": {},
   "source": [
    "# Prediction"
   ]
  },
  {
   "cell_type": "code",
   "execution_count": 11,
   "metadata": {},
   "outputs": [],
   "source": [
    "def generate_text(start_string):\n",
    "    \n",
    "    input_eval = torch.tensor([char2idx[s] for s in start_string], device=device)\n",
    "    \n",
    "    text_generated = np.empty(1)\n",
    "    hidden = model.init_hidden(batch_size)\n",
    "    for i in range(1000):\n",
    "        \n",
    "        input_eval = input_eval[np.newaxis, ...] # add a dimension for batch=1.\n",
    "        prediction, hidden = model(input_eval, hidden)\n",
    "        logits = prediction\n",
    "        p = torch.nn.functional.softmax(logits, dim=-1) # take first batch\n",
    "        predicted_id = torch.multinomial(p[0,-1], 1)\n",
    "        \n",
    "        input_eval = predicted_id\n",
    "        \n",
    "        text_generated = np.vstack((text_generated, idx2char[predicted_id].tolist()))\n",
    "\n",
    "    return text_generated"
   ]
  },
  {
   "cell_type": "code",
   "execution_count": 14,
   "metadata": {},
   "outputs": [],
   "source": [
    "text = idx_2d[:1000]\n",
    "prediction=generate_text(text)"
   ]
  },
  {
   "cell_type": "code",
   "execution_count": 22,
   "metadata": {},
   "outputs": [],
   "source": [
    "np.savetxt('prediction', prediction)"
   ]
  },
  {
   "cell_type": "code",
   "execution_count": 23,
   "metadata": {},
   "outputs": [],
   "source": [
    "infile = 'prediction'\n",
    "prediction=np.loadtxt(infile)"
   ]
  },
  {
   "cell_type": "code",
   "execution_count": 24,
   "metadata": {},
   "outputs": [
    {
     "data": {
      "image/png": "[encoded data removed]",
      "text/plain": [
       "<Figure size 432x288 with 1 Axes>"
      ]
     },
     "metadata": {
      "needs_background": "light"
     },
     "output_type": "display_data"
    }
   ],
   "source": [
    "import matplotlib.pyplot as plt\n",
    "plt.plot(prediction[1:2000])\n",
    "plt.show()"
   ]
  },
  {
   "cell_type": "code",
   "execution_count": 25,
   "metadata": {},
   "outputs": [
    {
     "data": {
      "text/plain": [
       "[<matplotlib.lines.Line2D at 0xa1e5cdb00>]"
      ]
     },
     "execution_count": 25,
     "metadata": {},
     "output_type": "execute_result"
    },
    {
     "data": {
      "image/png": "[encoded data removed]",
      "text/plain": [
       "<Figure size 432x288 with 1 Axes>"
      ]
     },
     "metadata": {
      "needs_background": "light"
     },
     "output_type": "display_data"
    }
   ],
   "source": [
    "plt.plot(text_as_int[1:2000])"
   ]
  },
  {
   "cell_type": "code",
   "execution_count": 26,
   "metadata": {},
   "outputs": [
    {
     "data": {
      "text/plain": [
       "(275,)"
      ]
     },
     "execution_count": 26,
     "metadata": {},
     "output_type": "execute_result"
    }
   ],
   "source": [
    "np.where(prediction==0)[0].shape"
   ]
  },
  {
   "cell_type": "code",
   "execution_count": 27,
   "metadata": {},
   "outputs": [
    {
     "data": {
      "text/plain": [
       "(514,)"
      ]
     },
     "execution_count": 27,
     "metadata": {},
     "output_type": "execute_result"
    }
   ],
   "source": [
    "np.where(prediction==1)[0].shape"
   ]
  },
  {
   "cell_type": "code",
   "execution_count": 28,
   "metadata": {},
   "outputs": [
    {
     "data": {
      "text/plain": [
       "(211,)"
      ]
     },
     "execution_count": 28,
     "metadata": {},
     "output_type": "execute_result"
    }
   ],
   "source": [
    "np.where(prediction==2)[0].shape"
   ]
  }
 ],
 "metadata": {
  "kernelspec": {
   "display_name": "Python 3",
   "language": "python",
   "name": "python3"
  },
  "language_info": {
   "codemirror_mode": {
    "name": "ipython",
    "version": 3
   },
   "file_extension": ".py",
   "mimetype": "text/x-python",
   "name": "python",
   "nbconvert_exporter": "python",
   "pygments_lexer": "ipython3",
   "version": "3.7.3"
  }
 },
 "nbformat": 4,
 "nbformat_minor": 2
}
